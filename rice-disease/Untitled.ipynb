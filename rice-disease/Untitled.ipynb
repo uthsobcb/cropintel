{
 "cells": [
  {
   "cell_type": "code",
   "execution_count": null,
   "id": "28230c87-7f4b-42a0-9248-92f2f7bde7bc",
   "metadata": {},
   "outputs": [],
   "source": []
  },
  {
   "cell_type": "code",
   "execution_count": 9,
   "id": "07e58f10-0627-4c53-9f38-c8758759d034",
   "metadata": {},
   "outputs": [],
   "source": [
    "import os, random, numpy as np, torch\n",
    "from torch.utils.data import DataLoader\n",
    "from torchvision import datasets, transforms, models\n",
    "import torch.nn as nn\n",
    "from torch.optim import AdamW\n",
    "from torch.optim.lr_scheduler import CosineAnnealingLR\n",
    "from tqdm import tqdm\n",
    "\n",
    "def set_seed(s=42):\n",
    "    random.seed(s); np.random.seed(s); torch.manual_seed(s)\n",
    "\n",
    "def get_device():\n",
    "    if torch.backends.mps.is_available():\n",
    "        return torch.device(\"mps\")  # Apple GPU\n",
    "    return torch.device(\"cuda\" if torch.cuda.is_available() else \"cpu\")\n"
   ]
  },
  {
   "cell_type": "code",
   "execution_count": 10,
   "id": "dfb57ad1-dca5-4829-a069-1738614cdce3",
   "metadata": {},
   "outputs": [],
   "source": [
    "def build_loaders(train_dir, val_dir, img_size=224, batch_size=32):\n",
    "    tf_train = transforms.Compose([\n",
    "        transforms.Resize((img_size, img_size)),\n",
    "        transforms.RandomHorizontalFlip(),\n",
    "        transforms.ToTensor(),\n",
    "        transforms.Normalize((0.485,0.456,0.406),(0.229,0.224,0.225)),\n",
    "    ])\n",
    "    tf_val = transforms.Compose([\n",
    "        transforms.Resize((img_size, img_size)),\n",
    "        transforms.ToTensor(),\n",
    "        transforms.Normalize((0.485,0.456,0.406),(0.229,0.224,0.225)),\n",
    "    ])\n",
    "    ds_tr = datasets.ImageFolder(train_dir, transform=tf_train)\n",
    "    ds_va = datasets.ImageFolder(val_dir, transform=tf_val)\n",
    "    dl_tr = DataLoader(ds_tr, batch_size=batch_size, shuffle=True,  num_workers=0)\n",
    "    dl_va = DataLoader(ds_va, batch_size=batch_size, shuffle=False, num_workers=0)\n",
    "    return dl_tr, dl_va, len(ds_tr.classes),ds_tr.classes"
   ]
  },
  {
   "cell_type": "code",
   "execution_count": 11,
   "id": "37972e40-e694-4311-9c3a-a027029532ea",
   "metadata": {},
   "outputs": [],
   "source": [
    "def build_model(num_classes, arch=\"efficientnet_b0\", pretrained=True, dropout=0.2):\n",
    "    if arch == \"efficientnet_b0\":\n",
    "        m = models.efficientnet_b0(weights=models.EfficientNet_B0_Weights.IMAGENET1K_V1 if pretrained else None)\n",
    "        in_feats = m.classifier[1].in_features\n",
    "        m.classifier[1] = nn.Identity()\n",
    "        head = nn.Sequential(nn.Dropout(dropout), nn.Linear(in_feats, num_classes))\n",
    "        return nn.Sequential(m, head)\n",
    "    elif arch == \"mobilenet_v3_large\":\n",
    "        m = models.mobilenet_v3_large(weights=models.MobileNet_V3_Large_Weights.IMAGENET1K_V2 if pretrained else None)\n",
    "        in_feats = m.classifier[0].in_features if hasattr(m.classifier[0], \"in_features\") else 960\n",
    "        m.classifier = nn.Identity()\n",
    "        head = nn.Sequential(nn.Dropout(dropout), nn.Linear(in_feats, num_classes))\n",
    "        return nn.Sequential(m, head)\n",
    "    else:  # resnet50\n",
    "        m = models.resnet50(weights=models.ResNet50_Weights.IMAGENET1K_V2 if pretrained else None)\n",
    "        in_feats = m.fc.in_features\n",
    "        m.fc = nn.Linear(in_feats, num_classes)\n",
    "        return m\n"
   ]
  },
  {
   "cell_type": "code",
   "execution_count": 13,
   "id": "1936ba4d-54fc-418c-853d-9310b83c1d5a",
   "metadata": {},
   "outputs": [],
   "source": [
    "def evaluate(model, loader, device):\n",
    "    model.eval()\n",
    "    correct = total = 0\n",
    "    with torch.no_grad():\n",
    "        for x, y in loader:\n",
    "            x, y = x.to(device), y.to(device)\n",
    "            logits = model(x)\n",
    "            pred = logits.argmax(1)\n",
    "            correct += (pred == y).sum().item()\n",
    "            total += y.numel()\n",
    "    return 100.0 * correct / total\n",
    "\n",
    "def train_loop(train_loader, val_loader, model, device, epochs=15, lr=3e-4):\n",
    "    criterion = nn.CrossEntropyLoss()\n",
    "    optim = AdamW(model.parameters(), lr=lr, weight_decay=1e-4)\n",
    "    scheduler = CosineAnnealingLR(optim, T_max=len(train_loader)*epochs)\n",
    "\n",
    "    best_val = 0.0\n",
    "    for epoch in range(epochs):\n",
    "        model.train()\n",
    "        pbar = tqdm(train_loader, desc=f\"Epoch {epoch+1}/{epochs}\")\n",
    "        for xb, yb in pbar:\n",
    "            xb, yb = xb.to(device), yb.to(device)\n",
    "            logits = model(xb)\n",
    "            loss = criterion(logits, yb)\n",
    "            optim.zero_grad(set_to_none=True)\n",
    "            loss.backward()\n",
    "            optim.step()\n",
    "            scheduler.step()\n",
    "            pbar.set_postfix(loss=float(loss.item()))\n",
    "        val_acc = evaluate(model, val_loader, device)\n",
    "        print(f\"Epoch {epoch+1}: val_acc={val_acc:.2f}%\")\n",
    "        if val_acc > best_val:\n",
    "            best_val = val_acc\n",
    "            torch.save(model.state_dict(), \"best_model.pt\")\n",
    "    print(\"Best val acc:\", best_val)\n"
   ]
  },
  {
   "cell_type": "code",
   "execution_count": 15,
   "id": "5caea8b4-8532-44d9-92a8-fd2a1ffc0273",
   "metadata": {},
   "outputs": [
    {
     "name": "stdout",
     "output_type": "stream",
     "text": [
      "Using device: mps\n"
     ]
    },
    {
     "name": "stderr",
     "output_type": "stream",
     "text": [
      "Epoch 1/15: 100%|███████████████████| 66/66 [00:41<00:00,  1.60it/s, loss=0.233]\n"
     ]
    },
    {
     "name": "stdout",
     "output_type": "stream",
     "text": [
      "Epoch 1: val_acc=92.42%\n"
     ]
    },
    {
     "name": "stderr",
     "output_type": "stream",
     "text": [
      "Epoch 2/15: 100%|████████████████████| 66/66 [00:40<00:00,  1.61it/s, loss=0.51]\n"
     ]
    },
    {
     "name": "stdout",
     "output_type": "stream",
     "text": [
      "Epoch 2: val_acc=95.08%\n"
     ]
    },
    {
     "name": "stderr",
     "output_type": "stream",
     "text": [
      "Epoch 3/15: 100%|███████████████████| 66/66 [00:41<00:00,  1.61it/s, loss=0.203]\n"
     ]
    },
    {
     "name": "stdout",
     "output_type": "stream",
     "text": [
      "Epoch 3: val_acc=96.59%\n"
     ]
    },
    {
     "name": "stderr",
     "output_type": "stream",
     "text": [
      "Epoch 4/15: 100%|███████████████████| 66/66 [00:41<00:00,  1.61it/s, loss=0.063]\n"
     ]
    },
    {
     "name": "stdout",
     "output_type": "stream",
     "text": [
      "Epoch 4: val_acc=96.40%\n"
     ]
    },
    {
     "name": "stderr",
     "output_type": "stream",
     "text": [
      "Epoch 5/15: 100%|██████████████████| 66/66 [00:41<00:00,  1.60it/s, loss=0.0497]\n"
     ]
    },
    {
     "name": "stdout",
     "output_type": "stream",
     "text": [
      "Epoch 5: val_acc=97.92%\n"
     ]
    },
    {
     "name": "stderr",
     "output_type": "stream",
     "text": [
      "Epoch 6/15: 100%|██████████████████| 66/66 [00:41<00:00,  1.60it/s, loss=0.0977]\n"
     ]
    },
    {
     "name": "stdout",
     "output_type": "stream",
     "text": [
      "Epoch 6: val_acc=97.16%\n"
     ]
    },
    {
     "name": "stderr",
     "output_type": "stream",
     "text": [
      "Epoch 7/15: 100%|██████████████████| 66/66 [00:41<00:00,  1.60it/s, loss=0.0079]\n"
     ]
    },
    {
     "name": "stdout",
     "output_type": "stream",
     "text": [
      "Epoch 7: val_acc=97.92%\n"
     ]
    },
    {
     "name": "stderr",
     "output_type": "stream",
     "text": [
      "Epoch 8/15: 100%|████████████████████| 66/66 [00:41<00:00,  1.60it/s, loss=0.16]\n"
     ]
    },
    {
     "name": "stdout",
     "output_type": "stream",
     "text": [
      "Epoch 8: val_acc=98.48%\n"
     ]
    },
    {
     "name": "stderr",
     "output_type": "stream",
     "text": [
      "Epoch 9/15: 100%|█████████████████| 66/66 [00:41<00:00,  1.60it/s, loss=0.00298]\n"
     ]
    },
    {
     "name": "stdout",
     "output_type": "stream",
     "text": [
      "Epoch 9: val_acc=99.24%\n"
     ]
    },
    {
     "name": "stderr",
     "output_type": "stream",
     "text": [
      "Epoch 10/15: 100%|██████████████████| 66/66 [00:41<00:00,  1.60it/s, loss=0.136]\n"
     ]
    },
    {
     "name": "stdout",
     "output_type": "stream",
     "text": [
      "Epoch 10: val_acc=99.05%\n"
     ]
    },
    {
     "name": "stderr",
     "output_type": "stream",
     "text": [
      "Epoch 11/15: 100%|███████████████| 66/66 [00:41<00:00,  1.60it/s, loss=0.000531]\n"
     ]
    },
    {
     "name": "stdout",
     "output_type": "stream",
     "text": [
      "Epoch 11: val_acc=99.05%\n"
     ]
    },
    {
     "name": "stderr",
     "output_type": "stream",
     "text": [
      "Epoch 12/15: 100%|████████████████| 66/66 [00:41<00:00,  1.60it/s, loss=0.00434]\n"
     ]
    },
    {
     "name": "stdout",
     "output_type": "stream",
     "text": [
      "Epoch 12: val_acc=99.05%\n"
     ]
    },
    {
     "name": "stderr",
     "output_type": "stream",
     "text": [
      "Epoch 13/15: 100%|█████████████████| 66/66 [00:41<00:00,  1.60it/s, loss=0.0051]\n"
     ]
    },
    {
     "name": "stdout",
     "output_type": "stream",
     "text": [
      "Epoch 13: val_acc=99.05%\n"
     ]
    },
    {
     "name": "stderr",
     "output_type": "stream",
     "text": [
      "Epoch 14/15: 100%|█████████████████| 66/66 [00:41<00:00,  1.60it/s, loss=0.0185]\n"
     ]
    },
    {
     "name": "stdout",
     "output_type": "stream",
     "text": [
      "Epoch 14: val_acc=99.24%\n"
     ]
    },
    {
     "name": "stderr",
     "output_type": "stream",
     "text": [
      "Epoch 15/15: 100%|█████████████████| 66/66 [00:41<00:00,  1.60it/s, loss=0.0613]\n"
     ]
    },
    {
     "name": "stdout",
     "output_type": "stream",
     "text": [
      "Epoch 15: val_acc=99.05%\n",
      "Best val acc: 99.24242424242425\n"
     ]
    }
   ],
   "source": [
    "set_seed(42)\n",
    "device = get_device()\n",
    "print(\"Using device:\", device)\n",
    "\n",
    "train_dir = \"RiceLeafsDisease/train\"\n",
    "val_dir   = \"RiceLeafsDisease/validation\"\n",
    "\n",
    "train_loader, val_loader, ncls, class_names = build_loaders(\n",
    "    train_dir, val_dir, img_size=224, batch_size=32\n",
    ")\n",
    "model = build_model(ncls, arch=\"efficientnet_b0\").to(device)\n",
    "\n",
    "train_loop(train_loader, val_loader, model, device, epochs=15, lr=3e-4)\n"
   ]
  },
  {
   "cell_type": "code",
   "execution_count": 16,
   "id": "9165a5d9-329b-44ef-8302-d9f3e9dc494b",
   "metadata": {},
   "outputs": [
    {
     "name": "stdout",
     "output_type": "stream",
     "text": [
      "Saved: 6 classes\n"
     ]
    }
   ],
   "source": [
    "import torch, json, os\n",
    "os.makedirs(\"artifacts\", exist_ok=True)\n",
    "\n",
    "torch.save(model.state_dict(), \"artifacts/best_model.pt\")\n",
    "# save class names for inference\n",
    "class_names = datasets.ImageFolder(train_dir).classes\n",
    "with open(\"artifacts/classes.json\", \"w\") as f:\n",
    "    json.dump(class_names, f)\n",
    "print(\"Saved:\", len(class_names), \"classes\")\n"
   ]
  },
  {
   "cell_type": "code",
   "execution_count": 17,
   "id": "091ac1a3-2c9c-4b92-8c7d-3bc3f0cfcbab",
   "metadata": {},
   "outputs": [
    {
     "name": "stdout",
     "output_type": "stream",
     "text": [
      "                       precision    recall  f1-score   support\n",
      "\n",
      "bacterial_leaf_blight     1.0000    1.0000    1.0000        88\n",
      "           brown_spot     0.9770    0.9659    0.9714        88\n",
      "              healthy     0.9778    1.0000    0.9888        88\n",
      "           leaf_blast     0.9885    0.9773    0.9829        88\n",
      "           leaf_scald     1.0000    1.0000    1.0000        88\n",
      "    narrow_brown_spot     1.0000    1.0000    1.0000        88\n",
      "\n",
      "             accuracy                         0.9905       528\n",
      "            macro avg     0.9905    0.9905    0.9905       528\n",
      "         weighted avg     0.9905    0.9905    0.9905       528\n",
      "\n"
     ]
    }
   ],
   "source": [
    "from sklearn.metrics import classification_report\n",
    "import numpy as np\n",
    "\n",
    "y_true, y_pred = [], []\n",
    "model.eval()\n",
    "with torch.no_grad():\n",
    "    for xb, yb in val_loader:\n",
    "        logits = model(xb.to(device))\n",
    "        y_pred.extend(logits.argmax(1).cpu().numpy())\n",
    "        y_true.extend(yb.numpy())\n",
    "\n",
    "print(classification_report(y_true, y_pred, target_names=class_names, digits=4))\n"
   ]
  },
  {
   "cell_type": "code",
   "execution_count": 19,
   "id": "7b06e274-1f52-497a-aee7-7e3b729b6f95",
   "metadata": {},
   "outputs": [
    {
     "name": "stdout",
     "output_type": "stream",
     "text": [
      "Model and weights reloaded ✅\n"
     ]
    }
   ],
   "source": [
    "import torch\n",
    "import torch.nn as nn\n",
    "from torchvision import models, datasets\n",
    "\n",
    "# 1) class names\n",
    "train_ds = datasets.ImageFolder(train_dir)\n",
    "class_names = train_ds.classes\n",
    "num_classes = len(class_names)\n",
    "\n",
    "# 2) REBUILD MODEL EXACTLY AS TRAINING (Sequential(backbone, head))\n",
    "def build_trained_model(num_classes, dropout=0.2):\n",
    "    backbone = models.efficientnet_b0(weights=None)    # no pretrained when loading\n",
    "    in_feats = backbone.classifier[1].in_features\n",
    "    backbone.classifier[1] = nn.Identity()             # remove final FC\n",
    "    head = nn.Sequential(nn.Dropout(dropout), nn.Linear(in_feats, num_classes))\n",
    "    return nn.Sequential(backbone, head)\n",
    "\n",
    "model = build_trained_model(num_classes)\n",
    "\n",
    "# 3) LOAD WEIGHTS\n",
    "state = torch.load(\"artifacts/best_model.pt\", map_location=\"cpu\")\n",
    "model.load_state_dict(state, strict=True)              # should load cleanly now\n",
    "model.eval()\n",
    "print(\"Model and weights reloaded ✅\")\n"
   ]
  },
  {
   "cell_type": "code",
   "execution_count": 22,
   "id": "1c48e705-bdba-4b18-802c-814dba20c604",
   "metadata": {},
   "outputs": [
    {
     "name": "stdout",
     "output_type": "stream",
     "text": [
      "Device: mps\n",
      "Collected predictions for 528 validation samples\n"
     ]
    }
   ],
   "source": [
    "import torch, torch.nn as nn\n",
    "from torchvision import models, datasets\n",
    "\n",
    "# device\n",
    "device = torch.device(\"mps\") if torch.backends.mps.is_available() else (\n",
    "         torch.device(\"cuda\") if torch.cuda.is_available() else torch.device(\"cpu\"))\n",
    "print(\"Device:\", device)\n",
    "\n",
    "# class names\n",
    "train_ds = datasets.ImageFolder(train_dir)\n",
    "class_names = train_ds.classes\n",
    "num_classes = len(class_names)\n",
    "\n",
    "# rebuild EXACT training structure: Sequential(backbone, head)\n",
    "def build_trained_model(num_classes, dropout=0.2):\n",
    "    backbone = models.efficientnet_b0(weights=None)\n",
    "    in_feats = backbone.classifier[1].in_features\n",
    "    backbone.classifier[1] = nn.Identity()\n",
    "    head = nn.Sequential(nn.Dropout(dropout), nn.Linear(in_feats, num_classes))\n",
    "    return nn.Sequential(backbone, head)\n",
    "\n",
    "# 1) build\n",
    "model = build_trained_model(num_classes)\n",
    "\n",
    "# 2) load weights (loaded on CPU is fine)\n",
    "state = torch.load(\"artifacts/best_model.pt\", map_location=\"cpu\")\n",
    "model.load_state_dict(state, strict=True)\n",
    "\n",
    "# 3) MOVE MODEL TO THE SAME DEVICE AS INPUTS\n",
    "model = model.to(device).eval()\n",
    "\n",
    "# 4) collect predictions\n",
    "y_true, y_pred = [], []\n",
    "with torch.no_grad():\n",
    "    for xb, yb in val_loader:\n",
    "        xb = xb.to(device)                    # inputs on same device\n",
    "        logits = model(xb)                    # no dtype/device mismatch now\n",
    "        y_pred.extend(logits.argmax(1).cpu().numpy())\n",
    "        y_true.extend(yb.numpy())\n",
    "\n",
    "print(\"Collected predictions for\", len(y_true), \"validation samples\")\n"
   ]
  },
  {
   "cell_type": "code",
   "execution_count": 23,
   "id": "b1dc150a-5ae4-47fb-9f9f-4063b76a41f7",
   "metadata": {},
   "outputs": [
    {
     "data": {
      "image/png": "[encoded data removed]",
      "text/plain": [
       "<Figure size 600x600 with 2 Axes>"
      ]
     },
     "metadata": {},
     "output_type": "display_data"
    }
   ],
   "source": [
    "import matplotlib.pyplot as plt\n",
    "from sklearn.metrics import confusion_matrix\n",
    "import numpy as np\n",
    "\n",
    "cm = confusion_matrix(y_true, y_pred, labels=list(range(len(class_names))))\n",
    "fig, ax = plt.subplots(figsize=(6,6))\n",
    "im = ax.imshow(cm, interpolation='nearest')\n",
    "ax.set_xlabel(\"Predicted\"); ax.set_ylabel(\"True\")\n",
    "ax.set_xticks(range(len(class_names))); ax.set_xticklabels(class_names, rotation=45, ha=\"right\")\n",
    "ax.set_yticks(range(len(class_names))) ; ax.set_yticklabels(class_names)\n",
    "plt.colorbar(im); plt.tight_layout(); plt.show()\n"
   ]
  },
  {
   "cell_type": "code",
   "execution_count": 24,
   "id": "9e4f194d-98fb-4082-a5de-20e0466420a9",
   "metadata": {
    "editable": true,
    "slideshow": {
     "slide_type": ""
    },
    "tags": []
   },
   "outputs": [
    {
     "name": "stdout",
     "output_type": "stream",
     "text": [
      "Predicted class index: 3\n",
      "Predicted class name: leaf_blast\n"
     ]
    }
   ],
   "source": [
    "import torch\n",
    "from torchvision import transforms\n",
    "from PIL import Image\n",
    "\n",
    "# device (same as before)\n",
    "device = torch.device(\"mps\") if torch.backends.mps.is_available() else (\n",
    "         torch.device(\"cuda\") if torch.cuda.is_available() else torch.device(\"cpu\"))\n",
    "\n",
    "# define same preprocessing you used in training/validation\n",
    "transform = transforms.Compose([\n",
    "    transforms.Resize((224, 224)),\n",
    "    transforms.ToTensor(),\n",
    "    transforms.Normalize(\n",
    "        mean=[0.485, 0.456, 0.406],   # ImageNet normalization (used by torchvision models)\n",
    "        std=[0.229, 0.224, 0.225]\n",
    "    )\n",
    "])\n",
    "\n",
    "# load an image\n",
    "img_path = \"test.png\"   # put your test image path here\n",
    "img = Image.open(img_path).convert(\"RGB\")\n",
    "\n",
    "# preprocess\n",
    "x = transform(img).unsqueeze(0).to(device)   # add batch dimension and move to device\n",
    "\n",
    "# inference\n",
    "model.eval()\n",
    "with torch.no_grad():\n",
    "    logits = model(x)\n",
    "    pred = logits.argmax(1).item()\n",
    "\n",
    "# show result\n",
    "print(\"Predicted class index:\", pred)\n",
    "print(\"Predicted class name:\", class_names[pred])\n"
   ]
  }
 ],
 "metadata": {
  "kernelspec": {
   "display_name": "Python 3 (ipykernel)",
   "language": "python",
   "name": "python3"
  },
  "language_info": {
   "codemirror_mode": {
    "name": "ipython",
    "version": 3
   },
   "file_extension": ".py",
   "mimetype": "text/x-python",
   "name": "python",
   "nbconvert_exporter": "python",
   "pygments_lexer": "ipython3",
   "version": "3.13.6"
  }
 },
 "nbformat": 4,
 "nbformat_minor": 5
}
